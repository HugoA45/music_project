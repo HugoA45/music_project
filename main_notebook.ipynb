{
 "cells": [
  {
   "cell_type": "code",
   "execution_count": 11,
   "metadata": {},
   "outputs": [],
   "source": [
    "from predict.predict import tuned_predicton\n",
    "from main_2 import load_bert_model\n",
    "import numpy as np\n",
    "import torch\n"
   ]
  },
  {
   "cell_type": "code",
   "execution_count": 12,
   "metadata": {},
   "outputs": [],
   "source": [
    "data = np.load('/Users/d.haverkort/code/HugoA45/music_project/music_project/data/pianist8/pianist8_cp_test.npy')\n",
    "ans = np.load('/Users/d.haverkort/code/HugoA45/music_project/music_project/data/pianist8/pianist8_cp_test_ans.npy')\n"
   ]
  },
  {
   "cell_type": "code",
   "execution_count": 13,
   "metadata": {},
   "outputs": [
    {
     "name": "stdout",
     "output_type": "stream",
     "text": [
      "Loading Dictionary\n",
      "{'Bethel Music (Religious)': 0.75, 'Ludovico Einaudy': 0.25}\n"
     ]
    },
    {
     "data": {
      "text/plain": [
       "{'Bethel Music (Religious)': 0.75, 'Ludovico Einaudy': 0.25}"
      ]
     },
     "execution_count": 13,
     "metadata": {},
     "output_type": "execute_result"
    }
   ],
   "source": [
    "dict_path = '/Users/d.haverkort/code/HugoA45/music_project/music_project/resources/CP.pkl'\n",
    "check_path = '/Users/d.haverkort/code/HugoA45/music_project/music_project/resources/composer_best.ckpt'\n",
    "midibert = load_bert_model(dict_path)\n",
    "checkpoint = torch.load(check_path, map_location='cpu')\n",
    "if \"midibert.bert.embeddings.position_ids\" in checkpoint['state_dict']:\n",
    "        del checkpoint['state_dict'][\"midibert.bert.embeddings.position_ids\"]\n",
    "        \n",
    "tuned_predicton(midibert,\n",
    "                    data[0:4,:,:],\n",
    "                    checkpoint)\n"
   ]
  },
  {
   "cell_type": "code",
   "execution_count": 14,
   "metadata": {},
   "outputs": [
    {
     "data": {
      "text/plain": [
       "array([2, 2, 2, 2, 5, 5, 0, 0, 0, 0, 3, 3, 4, 4, 4, 4, 4, 4, 4, 4, 1, 1,\n",
       "       1, 6, 1, 1, 1, 7, 7, 3, 3, 3, 3, 3, 3, 3, 3, 3, 7, 4, 4, 4, 4, 4,\n",
       "       4, 4, 5, 5, 5, 3, 3, 3, 3, 3, 3, 3, 3, 3, 2, 2, 4, 4, 4, 4, 4, 5,\n",
       "       5, 5, 5, 7, 7, 3, 3, 3, 6, 7, 1, 1, 7, 7, 7, 6, 6, 6, 6, 6, 6, 2,\n",
       "       2, 2, 2, 1, 1, 1, 0, 0, 0, 0, 0, 6, 6, 6, 2, 2, 2, 2, 2, 2, 2, 2,\n",
       "       3, 3, 3, 3, 3, 6, 6, 6, 0, 0, 0, 0, 0, 0, 0, 0])"
      ]
     },
     "execution_count": 14,
     "metadata": {},
     "output_type": "execute_result"
    }
   ],
   "source": [
    "ans\n"
   ]
  },
  {
   "cell_type": "code",
   "execution_count": 15,
   "metadata": {},
   "outputs": [
    {
     "data": {
      "text/plain": [
       "(126, 512, 4)"
      ]
     },
     "execution_count": 15,
     "metadata": {},
     "output_type": "execute_result"
    }
   ],
   "source": [
    "data.shape"
   ]
  },
  {
   "cell_type": "code",
   "execution_count": null,
   "metadata": {},
   "outputs": [],
   "source": []
  },
  {
   "cell_type": "code",
   "execution_count": null,
   "metadata": {},
   "outputs": [],
   "source": []
  }
 ],
 "metadata": {
  "kernelspec": {
   "display_name": "music_project",
   "language": "python",
   "name": "python3"
  },
  "language_info": {
   "codemirror_mode": {
    "name": "ipython",
    "version": 3
   },
   "file_extension": ".py",
   "mimetype": "text/x-python",
   "name": "python",
   "nbconvert_exporter": "python",
   "pygments_lexer": "ipython3",
   "version": "3.10.6"
  }
 },
 "nbformat": 4,
 "nbformat_minor": 2
}
