{
 "cells": [
  {
   "cell_type": "markdown",
   "id": "5219c349",
   "metadata": {},
   "source": [
    "### Model to Streamlit"
   ]
  },
  {
   "cell_type": "code",
   "execution_count": 1,
   "id": "7ed5731f",
   "metadata": {},
   "outputs": [],
   "source": [
    "import streamlit as st\n",
    "import numpy as np\n",
    "import pandas as pd"
   ]
  },
  {
   "cell_type": "markdown",
   "id": "5590b188",
   "metadata": {},
   "source": [
    "'''  \n",
    "    st.markdown(\"\"\"# TEXT\"\"\")\n",
    "\n",
    "    df = pd.DataFrame({\n",
    "        'first column': list(range(1, 11)),\n",
    "        'second column': np.arange(10, 101, 10)\n",
    "    })\n",
    "\n",
    "    # this slider allows the user to select a number of lines\n",
    "    # to display in the dataframe\n",
    "    # the selected value is returned by st.slider\n",
    "    line_count = st.slider('Select a line count', 1, 10, 3)\n",
    "\n",
    "    # and used to select the displayed lines\n",
    "    head_df = df.head(line_count)\n",
    "\n",
    "    head_df  \n",
    "'''"
   ]
  },
  {
   "cell_type": "code",
   "execution_count": null,
   "id": "0d82e196",
   "metadata": {},
   "outputs": [],
   "source": []
  }
 ],
 "metadata": {
  "kernelspec": {
   "display_name": "Python 3 (ipykernel)",
   "language": "python",
   "name": "python3"
  },
  "language_info": {
   "codemirror_mode": {
    "name": "ipython",
    "version": 3
   },
   "file_extension": ".py",
   "mimetype": "text/x-python",
   "name": "python",
   "nbconvert_exporter": "python",
   "pygments_lexer": "ipython3",
   "version": "3.10.6"
  },
  "toc": {
   "base_numbering": 1,
   "nav_menu": {},
   "number_sections": true,
   "sideBar": true,
   "skip_h1_title": false,
   "title_cell": "Table of Contents",
   "title_sidebar": "Contents",
   "toc_cell": false,
   "toc_position": {},
   "toc_section_display": true,
   "toc_window_display": false
  }
 },
 "nbformat": 4,
 "nbformat_minor": 5
}
