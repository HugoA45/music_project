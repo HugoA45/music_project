{
 "cells": [
  {
   "cell_type": "markdown",
   "id": "5219c349",
   "metadata": {},
   "source": [
    "### Model to Streamlit"
   ]
  },
  {
   "cell_type": "code",
   "execution_count": 1,
   "metadata": {},
   "outputs": [],
   "source": [
    "import sys\n",
    "sys.path.insert(0, '../')\n"
   ]
  },
  {
   "cell_type": "code",
   "execution_count": 2,
   "id": "7ed5731f",
   "metadata": {},
   "outputs": [],
   "source": [
    "import file_paths\n",
    "from basic_pitch_module.basic_pitch.inference import predict\n",
    "from data_processing.midi2CP import CP\n",
    "import pickle\n",
    "import miditoolkit\n",
    "import io\n"
   ]
  },
  {
   "cell_type": "code",
   "execution_count": 3,
   "metadata": {},
   "outputs": [
    {
     "name": "stdout",
     "output_type": "stream",
     "text": [
      "Predicting MIDI for ../temp/test/1.mp3...\n"
     ]
    }
   ],
   "source": [
    "midi_data = predict('../temp/test/1.mp3')[1]\n",
    "\n",
    "midi_stream = io.BytesIO()\n",
    "midi_data.write(midi_stream)\n",
    "midi_stream.seek(0)\n",
    "midi_data = miditoolkit.midi.parser.MidiFile(file = midi_stream)\n"
   ]
  },
  {
   "cell_type": "code",
   "execution_count": 4,
   "metadata": {},
   "outputs": [
    {
     "data": {
      "text/plain": [
       "ticks per beat: 220\n",
       "max tick: 198698\n",
       "tempo changes: 1\n",
       "time sig: 1\n",
       "key sig: 0\n",
       "markers: 0\n",
       "lyrics: False\n",
       "instruments: 1"
      ]
     },
     "execution_count": 4,
     "metadata": {},
     "output_type": "execute_result"
    }
   ],
   "source": [
    "midi_data\n"
   ]
  },
  {
   "cell_type": "code",
   "execution_count": 5,
   "metadata": {},
   "outputs": [],
   "source": [
    "#ith open(file_paths.cp_dict, 'rb') as f:\n",
    "with open('/Users/d.haverkort/code/HugoA45/music_project/music_project/resources/CP.pkl', 'rb') as f:\n",
    "    e2w, w2e = pickle.load(f)\n",
    "\n",
    "    compact_classes = ['Bar', 'Position', 'Pitch', 'Duration']\n",
    "    pad_CP = [e2w[subclass][f\"{subclass} <PAD>\"] for subclass in compact_classes]\n",
    "\n",
    "    # preprocess input file\n",
    "    CP_model = CP('/Users/d.haverkort/code/HugoA45/music_project/music_project/resources/CP.pkl')\n",
    "\n",
    "    events, tokens = CP_model.prepare_data(midi_data, 512)\n"
   ]
  },
  {
   "cell_type": "code",
   "execution_count": 6,
   "metadata": {},
   "outputs": [
    {
     "data": {
      "text/plain": [
       "(11, 512, 4)"
      ]
     },
     "execution_count": 6,
     "metadata": {},
     "output_type": "execute_result"
    }
   ],
   "source": [
    "tokens.shape\n"
   ]
  },
  {
   "cell_type": "code",
   "execution_count": 7,
   "metadata": {},
   "outputs": [],
   "source": [
    "from bert.load_midi_bert import load_model\n"
   ]
  },
  {
   "cell_type": "code",
   "execution_count": 8,
   "metadata": {},
   "outputs": [
    {
     "name": "stdout",
     "output_type": "stream",
     "text": [
      "Loading Dictionary\n"
     ]
    }
   ],
   "source": [
    "dict_path = '/Users/d.haverkort/code/HugoA45/music_project/music_project/resources/CP.pkl'\n",
    "ckpt_path = '/Users/d.haverkort/code/HugoA45/music_project/music_project/resources/pretrain_model.ckpt'\n",
    "midi_bert = load_model(dict_path, ckpt_path)\n"
   ]
  },
  {
   "cell_type": "code",
   "execution_count": 10,
   "metadata": {},
   "outputs": [],
   "source": [
    "from predict.model_prediction import prediction\n",
    "\n",
    "unts = prediction(tokens, midi_bert, task='composer_classification')\n"
   ]
  },
  {
   "cell_type": "code",
   "execution_count": 14,
   "metadata": {},
   "outputs": [
    {
     "data": {
      "text/plain": [
       "Bethel Music (Religious)      0.636364\n",
       "Yiruma (pop)                  0.181818\n",
       "R. Sakamoto (Contemporary)    0.090909\n",
       "H. Joe (Contemporary)         0.090909\n",
       "dtype: float64"
      ]
     },
     "execution_count": 14,
     "metadata": {},
     "output_type": "execute_result"
    }
   ],
   "source": [
    "unts.value_counts()/len(unts)\n"
   ]
  }
 ],
 "metadata": {
  "kernelspec": {
   "display_name": "Python 3 (ipykernel)",
   "language": "python",
   "name": "python3"
  },
  "language_info": {
   "codemirror_mode": {
    "name": "ipython",
    "version": 3
   },
   "file_extension": ".py",
   "mimetype": "text/x-python",
   "name": "python",
   "nbconvert_exporter": "python",
   "pygments_lexer": "ipython3",
   "version": "3.10.6"
  },
  "toc": {
   "base_numbering": 1,
   "nav_menu": {},
   "number_sections": true,
   "sideBar": true,
   "skip_h1_title": false,
   "title_cell": "Table of Contents",
   "title_sidebar": "Contents",
   "toc_cell": false,
   "toc_position": {},
   "toc_section_display": true,
   "toc_window_display": false
  }
 },
 "nbformat": 4,
 "nbformat_minor": 5
}
