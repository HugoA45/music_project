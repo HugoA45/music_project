{
 "cells": [
  {
   "cell_type": "markdown",
   "id": "5219c349",
   "metadata": {},
   "source": [
    "### Model to Streamlit"
   ]
  },
  {
   "cell_type": "code",
   "execution_count": 15,
   "metadata": {},
   "outputs": [],
   "source": [
    "import sys\n",
    "sys.path.insert(0, '../')\n"
   ]
  },
  {
   "cell_type": "code",
   "execution_count": 16,
   "id": "7ed5731f",
   "metadata": {},
   "outputs": [],
   "source": [
    "import file_paths\n",
    "from basic_pitch_module.basic_pitch.inference import predict\n",
    "from data_processing.midi2CP import CP\n",
    "import pickle\n",
    "import miditoolkit\n",
    "import io\n",
    "from data_processing.extract import main\n"
   ]
  },
  {
   "cell_type": "code",
   "execution_count": 17,
   "metadata": {},
   "outputs": [],
   "source": [
    "## Test\n",
    "from data_processing.extract import main\n"
   ]
  },
  {
   "cell_type": "code",
   "execution_count": 18,
   "metadata": {},
   "outputs": [
    {
     "name": "stdout",
     "output_type": "stream",
     "text": [
      "Predicting MIDI for ../temp/test/1.mp3...\n"
     ]
    }
   ],
   "source": [
    "midi_data = predict('../temp/test/1.mp3')[1]\n",
    "\n",
    "midi_stream = io.BytesIO()\n",
    "midi_data.write(midi_stream)\n",
    "midi_stream.seek(0)\n",
    "midi_data = miditoolkit.midi.parser.MidiFile(file = midi_stream)\n"
   ]
  },
  {
   "cell_type": "code",
   "execution_count": 19,
   "metadata": {},
   "outputs": [
    {
     "data": {
      "text/plain": [
       "ticks per beat: 220\n",
       "max tick: 198698\n",
       "tempo changes: 1\n",
       "time sig: 1\n",
       "key sig: 0\n",
       "markers: 0\n",
       "lyrics: False\n",
       "instruments: 1"
      ]
     },
     "execution_count": 19,
     "metadata": {},
     "output_type": "execute_result"
    }
   ],
   "source": [
    "midi_data\n"
   ]
  },
  {
   "cell_type": "code",
   "execution_count": 20,
   "metadata": {},
   "outputs": [],
   "source": [
    "#with open(file_paths.cp_dict, 'rb') as f:\n",
    "with open('/Users/d.haverkort/code/HugoA45/music_project/music_project/resources/CP.pkl', 'rb') as f:\n",
    "    e2w, w2e = pickle.load(f)\n",
    "\n",
    "    compact_classes = ['Bar', 'Position', 'Pitch', 'Duration']\n",
    "    pad_CP = [e2w[subclass][f\"{subclass} <PAD>\"] for subclass in compact_classes]\n",
    "\n",
    "    # preprocess input file\n",
    "    CP_model = CP('/Users/d.haverkort/code/HugoA45/music_project/music_project/resources/CP.pkl')\n",
    "\n",
    "    events, tokens = CP_model.prepare_data(midi_data, 512)\n"
   ]
  },
  {
   "cell_type": "code",
   "execution_count": 21,
   "metadata": {},
   "outputs": [
    {
     "data": {
      "text/plain": [
       "(11, 512, 4)"
      ]
     },
     "execution_count": 21,
     "metadata": {},
     "output_type": "execute_result"
    }
   ],
   "source": [
    "tokens.shape\n"
   ]
  },
  {
   "cell_type": "code",
   "execution_count": 22,
   "metadata": {},
   "outputs": [],
   "source": [
    "from bert.load_midi_bert import load_model\n"
   ]
  },
  {
   "cell_type": "code",
   "execution_count": 23,
   "metadata": {},
   "outputs": [
    {
     "name": "stdout",
     "output_type": "stream",
     "text": [
      "Loading Dictionary\n"
     ]
    }
   ],
   "source": [
    "dict_path = '/Users/d.haverkort/code/HugoA45/music_project/music_project/resources/CP.pkl'\n",
    "ckpt_path = '/Users/d.haverkort/code/HugoA45/music_project/music_project/resources/pretrain_model.ckpt'\n",
    "midi_bert = load_model(dict_path, ckpt_path)\n"
   ]
  },
  {
   "cell_type": "code",
   "execution_count": 24,
   "metadata": {},
   "outputs": [],
   "source": [
    "from predict.model_prediction import prediction\n",
    "\n",
    "unts = prediction(tokens, midi_bert, task='composer_classification')\n"
   ]
  },
  {
   "cell_type": "code",
   "execution_count": 25,
   "metadata": {},
   "outputs": [
    {
     "data": {
      "text/plain": [
       "Joe Hisaishi (Contemporary)        0.727273\n",
       "Ryuichy Sakamoto (Contemporary)    0.181818\n",
       "Bethel Music (Religious)           0.090909\n",
       "dtype: float64"
      ]
     },
     "execution_count": 25,
     "metadata": {},
     "output_type": "execute_result"
    }
   ],
   "source": [
    "unts.value_counts()/len(unts)\n"
   ]
  },
  {
   "cell_type": "code",
   "execution_count": 28,
   "metadata": {},
   "outputs": [
    {
     "ename": "NameError",
     "evalue": "name '__file__' is not defined",
     "output_type": "error",
     "traceback": [
      "\u001b[0;31m---------------------------------------------------------------------------\u001b[0m",
      "\u001b[0;31mNameError\u001b[0m                                 Traceback (most recent call last)",
      "\u001b[1;32m/Users/d.haverkort/code/HugoA45/music_project/music_project/notebooks/Deborah.ipynb Cell 13\u001b[0m line \u001b[0;36m2\n\u001b[1;32m      <a href='vscode-notebook-cell:/Users/d.haverkort/code/HugoA45/music_project/music_project/notebooks/Deborah.ipynb#X21sZmlsZQ%3D%3D?line=0'>1</a>\u001b[0m \u001b[39mimport\u001b[39;00m \u001b[39mos\u001b[39;00m\n\u001b[0;32m----> <a href='vscode-notebook-cell:/Users/d.haverkort/code/HugoA45/music_project/music_project/notebooks/Deborah.ipynb#X21sZmlsZQ%3D%3D?line=1'>2</a>\u001b[0m current_directory \u001b[39m=\u001b[39m os\u001b[39m.\u001b[39mpath\u001b[39m.\u001b[39mdirname(os\u001b[39m.\u001b[39mpath\u001b[39m.\u001b[39mabspath(\u001b[39m__file__\u001b[39;49m))\n\u001b[1;32m      <a href='vscode-notebook-cell:/Users/d.haverkort/code/HugoA45/music_project/music_project/notebooks/Deborah.ipynb#X21sZmlsZQ%3D%3D?line=2'>3</a>\u001b[0m dict_path \u001b[39m=\u001b[39m os\u001b[39m.\u001b[39mpath\u001b[39m.\u001b[39mjoin(current_directory, \u001b[39m'\u001b[39m\u001b[39mresources\u001b[39m\u001b[39m'\u001b[39m, \u001b[39m'\u001b[39m\u001b[39mCP.pkl\u001b[39m\u001b[39m'\u001b[39m)\n\u001b[1;32m      <a href='vscode-notebook-cell:/Users/d.haverkort/code/HugoA45/music_project/music_project/notebooks/Deborah.ipynb#X21sZmlsZQ%3D%3D?line=3'>4</a>\u001b[0m ckpt_path \u001b[39m=\u001b[39m os\u001b[39m.\u001b[39mpath\u001b[39m.\u001b[39mjoin(current_directory, \u001b[39m'\u001b[39m\u001b[39mresources\u001b[39m\u001b[39m'\u001b[39m, \u001b[39m'\u001b[39m\u001b[39mpretrain_model.ckpt\u001b[39m\u001b[39m'\u001b[39m)\n",
      "\u001b[0;31mNameError\u001b[0m: name '__file__' is not defined"
     ]
    }
   ],
   "source": [
    "import os\n",
    "current_directory = os.path.dirname(os.path.abspath(__file__))\n",
    "dict_path = os.path.join(current_directory, 'resources', 'CP.pkl')\n",
    "ckpt_path = os.path.join(current_directory, 'resources', 'pretrain_model.ckpt')\n"
   ]
  },
  {
   "cell_type": "code",
   "execution_count": 27,
   "metadata": {},
   "outputs": [
    {
     "data": {
      "text/plain": [
       "'/Users/d.haverkort/code/HugoA45/music_project/music_project/notebooks/music_project/resources/CP.pkl'"
      ]
     },
     "execution_count": 27,
     "metadata": {},
     "output_type": "execute_result"
    }
   ],
   "source": [
    "dict_path\n"
   ]
  },
  {
   "cell_type": "code",
   "execution_count": null,
   "metadata": {},
   "outputs": [],
   "source": [
    "# 2.1 Website Function: typewriter - slow down typing speed\n",
    "# def typewriter(text: str, speed=10):\n",
    "#     tokens = text.split()\n",
    "#     container = st.empty()\n",
    "#     for index in range(len(tokens) + 1):\n",
    "#         curr_full_text = \" \".join(tokens[:index])\n",
    "#         container.markdown(curr_full_text)\n",
    "#         time.sleep(1 / speed)\n"
   ]
  }
 ],
 "metadata": {
  "kernelspec": {
   "display_name": "Python 3 (ipykernel)",
   "language": "python",
   "name": "python3"
  },
  "language_info": {
   "codemirror_mode": {
    "name": "ipython",
    "version": 3
   },
   "file_extension": ".py",
   "mimetype": "text/x-python",
   "name": "python",
   "nbconvert_exporter": "python",
   "pygments_lexer": "ipython3",
   "version": "3.10.6"
  },
  "toc": {
   "base_numbering": 1,
   "nav_menu": {},
   "number_sections": true,
   "sideBar": true,
   "skip_h1_title": false,
   "title_cell": "Table of Contents",
   "title_sidebar": "Contents",
   "toc_cell": false,
   "toc_position": {},
   "toc_section_display": true,
   "toc_window_display": false
  }
 },
 "nbformat": 4,
 "nbformat_minor": 5
}
