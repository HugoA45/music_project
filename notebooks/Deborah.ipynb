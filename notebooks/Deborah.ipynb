{
 "cells": [
  {
   "cell_type": "markdown",
   "id": "5219c349",
   "metadata": {},
   "source": [
    "### Model to Streamlit"
   ]
  },
  {
   "cell_type": "code",
   "execution_count": 53,
   "metadata": {},
   "outputs": [],
   "source": [
    "import sys\n",
    "sys.path.insert(0, '../')\n"
   ]
  },
  {
   "cell_type": "code",
   "execution_count": 54,
   "id": "7ed5731f",
   "metadata": {},
   "outputs": [],
   "source": [
    "import file_paths\n",
    "from basic_pitch_module.basic_pitch.inference import predict\n"
   ]
  },
  {
   "cell_type": "code",
   "execution_count": 17,
   "metadata": {},
   "outputs": [
    {
     "name": "stdout",
     "output_type": "stream",
     "text": [
      "Predicting MIDI for ../temp/test/1.mp3...\n"
     ]
    }
   ],
   "source": [
    "midi_data = predict('../temp/test/1.mp3')[1]\n"
   ]
  },
  {
   "cell_type": "code",
   "execution_count": 18,
   "metadata": {},
   "outputs": [
    {
     "data": {
      "text/plain": [
       "<pretty_midi.pretty_midi.PrettyMIDI at 0x2c029ab30>"
      ]
     },
     "execution_count": 18,
     "metadata": {},
     "output_type": "execute_result"
    }
   ],
   "source": [
    "midi_data\n"
   ]
  },
  {
   "cell_type": "code",
   "execution_count": null,
   "metadata": {},
   "outputs": [],
   "source": [
    "from data_processing.midi2CP\n"
   ]
  },
  {
   "cell_type": "code",
   "execution_count": null,
   "metadata": {},
   "outputs": [],
   "source": [
    "with open(file_paths.cp_dict, 'rb') as f:\n",
    "        e2w, w2e = pickle.load(f)\n",
    "\n",
    "    compact_classes = ['Bar', 'Position', 'Pitch', 'Duration']\n",
    "    pad_CP = [e2w[subclass][f\"{subclass} <PAD>\"] for subclass in compact_classes]\n",
    "\n",
    "    # preprocess input file\n",
    "    CP_model = CP(file_paths.cp_dict)\n",
    "    events, tokens = CP_model.prepare_data(, 512)\n"
   ]
  }
 ],
 "metadata": {
  "kernelspec": {
   "display_name": "Python 3 (ipykernel)",
   "language": "python",
   "name": "python3"
  },
  "language_info": {
   "codemirror_mode": {
    "name": "ipython",
    "version": 3
   },
   "file_extension": ".py",
   "mimetype": "text/x-python",
   "name": "python",
   "nbconvert_exporter": "python",
   "pygments_lexer": "ipython3",
   "version": "3.10.6"
  },
  "toc": {
   "base_numbering": 1,
   "nav_menu": {},
   "number_sections": true,
   "sideBar": true,
   "skip_h1_title": false,
   "title_cell": "Table of Contents",
   "title_sidebar": "Contents",
   "toc_cell": false,
   "toc_position": {},
   "toc_section_display": true,
   "toc_window_display": false
  }
 },
 "nbformat": 4,
 "nbformat_minor": 5
}
