{
 "cells": [
  {
   "cell_type": "markdown",
   "id": "5219c349",
   "metadata": {},
   "source": [
    "### Model to Streamlit"
   ]
  },
  {
   "cell_type": "code",
   "execution_count": 1,
   "metadata": {},
   "outputs": [],
   "source": [
    "import sys\n",
    "sys.path.insert(0, '../')\n"
   ]
  },
  {
   "cell_type": "code",
   "execution_count": 2,
   "id": "7ed5731f",
   "metadata": {},
   "outputs": [],
   "source": [
    "import file_paths\n",
    "from basic_pitch_module.basic_pitch.inference import predict\n"
   ]
  },
  {
   "cell_type": "code",
   "execution_count": 3,
   "metadata": {},
   "outputs": [
    {
     "name": "stdout",
     "output_type": "stream",
     "text": [
      "Predicting MIDI for ../temp/test/1.mp3...\n"
     ]
    }
   ],
   "source": [
    "midi_data = predict('../temp/test/1.mp3')[1]\n"
   ]
  },
  {
   "cell_type": "code",
   "execution_count": 4,
   "metadata": {},
   "outputs": [
    {
     "data": {
      "text/plain": [
       "<pretty_midi.pretty_midi.PrettyMIDI at 0x28bc533d0>"
      ]
     },
     "execution_count": 4,
     "metadata": {},
     "output_type": "execute_result"
    }
   ],
   "source": [
    "midi_data\n"
   ]
  },
  {
   "cell_type": "code",
   "execution_count": 5,
   "metadata": {},
   "outputs": [
    {
     "ename": "ModuleNotFoundError",
     "evalue": "No module named 'preprocess_utils'",
     "output_type": "error",
     "traceback": [
      "\u001b[0;31m---------------------------------------------------------------------------\u001b[0m",
      "\u001b[0;31mModuleNotFoundError\u001b[0m                       Traceback (most recent call last)",
      "\u001b[1;32m/Users/d.haverkort/code/HugoA45/music_project/music_project/notebooks/Deborah.ipynb Cell 6\u001b[0m line \u001b[0;36m1\n\u001b[0;32m----> <a href='vscode-notebook-cell:/Users/d.haverkort/code/HugoA45/music_project/music_project/notebooks/Deborah.ipynb#W5sZmlsZQ%3D%3D?line=0'>1</a>\u001b[0m \u001b[39mfrom\u001b[39;00m \u001b[39mdata_processing\u001b[39;00m\u001b[39m.\u001b[39;00m\u001b[39mmidi2CP\u001b[39;00m \u001b[39mimport\u001b[39;00m CP\n\u001b[1;32m      <a href='vscode-notebook-cell:/Users/d.haverkort/code/HugoA45/music_project/music_project/notebooks/Deborah.ipynb#W5sZmlsZQ%3D%3D?line=1'>2</a>\u001b[0m \u001b[39mimport\u001b[39;00m \u001b[39mpickle\u001b[39;00m\n",
      "File \u001b[0;32m~/code/HugoA45/music_project/music_project/notebooks/../data_processing/midi2CP.py:4\u001b[0m\n\u001b[1;32m      2\u001b[0m \u001b[39mimport\u001b[39;00m \u001b[39mpickle\u001b[39;00m\n\u001b[1;32m      3\u001b[0m \u001b[39mfrom\u001b[39;00m \u001b[39mtqdm\u001b[39;00m \u001b[39mimport\u001b[39;00m tqdm\n\u001b[0;32m----> 4\u001b[0m \u001b[39mimport\u001b[39;00m \u001b[39mpreprocess_utils\u001b[39;00m\n\u001b[1;32m      7\u001b[0m \u001b[39mclass\u001b[39;00m \u001b[39mCP\u001b[39;00m(\u001b[39mobject\u001b[39m):\n\u001b[1;32m      8\u001b[0m     \u001b[39mdef\u001b[39;00m \u001b[39m__init__\u001b[39m(\u001b[39mself\u001b[39m, \u001b[39mdict\u001b[39m):\n\u001b[1;32m      9\u001b[0m         \u001b[39m# load dictionary\u001b[39;00m\n",
      "\u001b[0;31mModuleNotFoundError\u001b[0m: No module named 'preprocess_utils'"
     ]
    }
   ],
   "source": [
    "from data_processing.midi2CP import CP\n",
    "import pickle\n"
   ]
  },
  {
   "cell_type": "code",
   "execution_count": null,
   "metadata": {},
   "outputs": [
    {
     "ename": "AttributeError",
     "evalue": "module 'utils' has no attribute 'read_items'",
     "output_type": "error",
     "traceback": [
      "\u001b[0;31m---------------------------------------------------------------------------\u001b[0m",
      "\u001b[0;31mAttributeError\u001b[0m                            Traceback (most recent call last)",
      "\u001b[1;32m/Users/d.haverkort/code/HugoA45/music_project/music_project/notebooks/Deborah.ipynb Cell 7\u001b[0m line \u001b[0;36m1\n\u001b[1;32m      <a href='vscode-notebook-cell:/Users/d.haverkort/code/HugoA45/music_project/music_project/notebooks/Deborah.ipynb#X50sZmlsZQ%3D%3D?line=7'>8</a>\u001b[0m \u001b[39m# preprocess input file\u001b[39;00m\n\u001b[1;32m      <a href='vscode-notebook-cell:/Users/d.haverkort/code/HugoA45/music_project/music_project/notebooks/Deborah.ipynb#X50sZmlsZQ%3D%3D?line=8'>9</a>\u001b[0m CP_model \u001b[39m=\u001b[39m CP(\u001b[39m'\u001b[39m\u001b[39m/Users/d.haverkort/code/HugoA45/music_project/music_project/resources/CP.pkl\u001b[39m\u001b[39m'\u001b[39m)\n\u001b[0;32m---> <a href='vscode-notebook-cell:/Users/d.haverkort/code/HugoA45/music_project/music_project/notebooks/Deborah.ipynb#X50sZmlsZQ%3D%3D?line=9'>10</a>\u001b[0m events, tokens \u001b[39m=\u001b[39m CP_model\u001b[39m.\u001b[39;49mprepare_data(midi_data, \u001b[39m512\u001b[39;49m)\n",
      "File \u001b[0;32m~/code/HugoA45/music_project/music_project/notebooks/../data_processing/midi2CP.py:39\u001b[0m, in \u001b[0;36mCP.prepare_data\u001b[0;34m(self, midi_path, max_len)\u001b[0m\n\u001b[1;32m     35\u001b[0m \u001b[39m\"\"\"\u001b[39;00m\n\u001b[1;32m     36\u001b[0m \u001b[39m    Prepare data for a single midi\u001b[39;00m\n\u001b[1;32m     37\u001b[0m \u001b[39m\"\"\"\u001b[39;00m\n\u001b[1;32m     38\u001b[0m \u001b[39m# extract events\u001b[39;00m\n\u001b[0;32m---> 39\u001b[0m events \u001b[39m=\u001b[39m \u001b[39mself\u001b[39;49m\u001b[39m.\u001b[39;49mextract_events(midi_path)\n\u001b[1;32m     40\u001b[0m \u001b[39mif\u001b[39;00m \u001b[39mnot\u001b[39;00m events:  \u001b[39m# if midi contains nothing\u001b[39;00m\n\u001b[1;32m     41\u001b[0m     \u001b[39mraise\u001b[39;00m \u001b[39mValueError\u001b[39;00m(\u001b[39mf\u001b[39m\u001b[39m'\u001b[39m\u001b[39mThe given \u001b[39m\u001b[39m{\u001b[39;00mmidi_path\u001b[39m}\u001b[39;00m\u001b[39m is empty\u001b[39m\u001b[39m'\u001b[39m)\n",
      "File \u001b[0;32m~/code/HugoA45/music_project/music_project/notebooks/../data_processing/midi2CP.py:16\u001b[0m, in \u001b[0;36mCP.extract_events\u001b[0;34m(self, input_path)\u001b[0m\n\u001b[1;32m     15\u001b[0m \u001b[39mdef\u001b[39;00m \u001b[39mextract_events\u001b[39m(\u001b[39mself\u001b[39m, input_path):\n\u001b[0;32m---> 16\u001b[0m     note_items, tempo_items \u001b[39m=\u001b[39m utils\u001b[39m.\u001b[39;49mread_items(input_path)\n\u001b[1;32m     17\u001b[0m     \u001b[39mif\u001b[39;00m \u001b[39mlen\u001b[39m(note_items) \u001b[39m==\u001b[39m \u001b[39m0\u001b[39m:   \u001b[39m# if the midi contains nothing\u001b[39;00m\n\u001b[1;32m     18\u001b[0m         \u001b[39mreturn\u001b[39;00m \u001b[39mNone\u001b[39;00m\n",
      "\u001b[0;31mAttributeError\u001b[0m: module 'utils' has no attribute 'read_items'"
     ]
    }
   ],
   "source": [
    "#ith open(file_paths.cp_dict, 'rb') as f:\n",
    "with open('/Users/d.haverkort/code/HugoA45/music_project/music_project/resources/CP.pkl', 'rb') as f:\n",
    "    e2w, w2e = pickle.load(f)\n",
    "\n",
    "    compact_classes = ['Bar', 'Position', 'Pitch', 'Duration']\n",
    "    pad_CP = [e2w[subclass][f\"{subclass} <PAD>\"] for subclass in compact_classes]\n",
    "\n",
    "    # preprocess input file\n",
    "    CP_model = CP('/Users/d.haverkort/code/HugoA45/music_project/music_project/resources/CP.pkl')\n",
    "    events, tokens = CP_model.prepare_data(midi_data, 512)\n"
   ]
  },
  {
   "cell_type": "code",
   "execution_count": null,
   "metadata": {},
   "outputs": [],
   "source": []
  },
  {
   "cell_type": "code",
   "execution_count": null,
   "metadata": {},
   "outputs": [],
   "source": []
  }
 ],
 "metadata": {
  "kernelspec": {
   "display_name": "Python 3 (ipykernel)",
   "language": "python",
   "name": "python3"
  },
  "language_info": {
   "codemirror_mode": {
    "name": "ipython",
    "version": 3
   },
   "file_extension": ".py",
   "mimetype": "text/x-python",
   "name": "python",
   "nbconvert_exporter": "python",
   "pygments_lexer": "ipython3",
   "version": "3.10.6"
  },
  "toc": {
   "base_numbering": 1,
   "nav_menu": {},
   "number_sections": true,
   "sideBar": true,
   "skip_h1_title": false,
   "title_cell": "Table of Contents",
   "title_sidebar": "Contents",
   "toc_cell": false,
   "toc_position": {},
   "toc_section_display": true,
   "toc_window_display": false
  }
 },
 "nbformat": 4,
 "nbformat_minor": 5
}
