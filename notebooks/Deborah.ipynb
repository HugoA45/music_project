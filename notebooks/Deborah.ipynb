{
 "cells": [
  {
   "cell_type": "markdown",
   "id": "5219c349",
   "metadata": {},
   "source": [
    "### Model to Streamlit"
   ]
  },
  {
   "cell_type": "code",
   "execution_count": 35,
   "metadata": {},
   "outputs": [],
   "source": [
    "import sys\n",
    "sys.path.insert(0, '../')\n"
   ]
  },
  {
   "cell_type": "code",
   "execution_count": 36,
   "id": "7ed5731f",
   "metadata": {},
   "outputs": [],
   "source": [
    "import streamlit as st\n",
    "import numpy as np\n",
    "import pandas as pd\n",
    "import file_paths\n",
    "import basic_pitch\n"
   ]
  },
  {
   "cell_type": "code",
   "execution_count": 48,
   "metadata": {},
   "outputs": [],
   "source": [
    "from data_processing.MP3_to_MIDI import convert_mp3_to_midi\n"
   ]
  },
  {
   "cell_type": "markdown",
   "id": "5590b188",
   "metadata": {},
   "source": [
    "convert_mp3"
   ]
  },
  {
   "cell_type": "code",
   "execution_count": 46,
   "metadata": {},
   "outputs": [],
   "source": [
    "mp3_path = '/Users/d.haverkort/code/HugoA45/music_project/music_project/ZZ_archive/MP3_Files_Input/Beethoven - Moonlight Sonata (3rd Movement).mp3'\n"
   ]
  },
  {
   "cell_type": "code",
   "execution_count": 47,
   "id": "0d82e196",
   "metadata": {},
   "outputs": [
    {
     "name": "stdout",
     "output_type": "stream",
     "text": [
      "\n",
      "✨✨✨✨✨✨✨✨✨\n",
      "✨ Basic Pitch  ✨\n",
      "✨✨✨✨✨✨✨✨✨\n",
      "\n",
      "Importing Tensorflow (this may take a few seconds)...\n",
      "\n",
      "Predicting MIDI for /Users/d.haverkort/code/HugoA45/music_project/music_project/ZZ_archive/MP3_Files_Input/Beethoven - Moonlight Sonata (3rd Movement).mp3...\n",
      "\n",
      "\n",
      "  Creating midi...\n",
      "  💅 Saved to /Users/d.haverkort/code/HugoA45/music_project/music_project/ZZ_archive/Output_Dir/Beethoven - Moonlight Sonata (3rd Movement)_basic_pitch.mid\n",
      "\n",
      "✨ Done ✨\n",
      "\n",
      "Converted /Users/d.haverkort/code/HugoA45/music_project/music_project/ZZ_archive/MP3_Files_Input/Beethoven - Moonlight Sonata (3rd Movement).mp3 to MIDI in /Users/d.haverkort/code/HugoA45/music_project/music_project/ZZ_archive/Output_Dir\n"
     ]
    },
    {
     "data": {
      "text/plain": [
       "'/Users/d.haverkort/code/HugoA45/music_project/music_project/ZZ_archive/Output_Dir/Beethoven - Moonlight Sonata (3rd Movement).midi'"
      ]
     },
     "execution_count": 47,
     "metadata": {},
     "output_type": "execute_result"
    }
   ],
   "source": [
    "convert_mp3_to_midi(mp3_file=mp3_path, output_dir=file_paths.output_dir)\n"
   ]
  },
  {
   "cell_type": "code",
   "execution_count": null,
   "metadata": {},
   "outputs": [],
   "source": []
  },
  {
   "cell_type": "code",
   "execution_count": null,
   "metadata": {},
   "outputs": [],
   "source": []
  }
 ],
 "metadata": {
  "kernelspec": {
   "display_name": "Python 3 (ipykernel)",
   "language": "python",
   "name": "python3"
  },
  "language_info": {
   "codemirror_mode": {
    "name": "ipython",
    "version": 3
   },
   "file_extension": ".py",
   "mimetype": "text/x-python",
   "name": "python",
   "nbconvert_exporter": "python",
   "pygments_lexer": "ipython3",
   "version": "3.10.6"
  },
  "toc": {
   "base_numbering": 1,
   "nav_menu": {},
   "number_sections": true,
   "sideBar": true,
   "skip_h1_title": false,
   "title_cell": "Table of Contents",
   "title_sidebar": "Contents",
   "toc_cell": false,
   "toc_position": {},
   "toc_section_display": true,
   "toc_window_display": false
  }
 },
 "nbformat": 4,
 "nbformat_minor": 5
}
