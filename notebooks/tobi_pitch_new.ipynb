{
 "cells": [
  {
   "cell_type": "markdown",
   "id": "739336fb",
   "metadata": {},
   "source": [
    "# Running Pitch to convert MP3 to MIDI"
   ]
  },
  {
   "cell_type": "markdown",
   "id": "e7ca6318",
   "metadata": {},
   "source": [
    "## install it "
   ]
  },
  {
   "cell_type": "code",
   "execution_count": 1,
   "id": "8c67259b",
   "metadata": {
    "scrolled": true
   },
   "outputs": [
    {
     "name": "stdout",
     "output_type": "stream",
     "text": [
      "Requirement already satisfied: basic-pitch in /Users/tobiaslandgraf/.pyenv/versions/3.10.6/envs/lewagon/lib/python3.10/site-packages (0.2.6)\n",
      "Requirement already satisfied: librosa>=0.8.0 in /Users/tobiaslandgraf/.pyenv/versions/3.10.6/envs/lewagon/lib/python3.10/site-packages (from basic-pitch) (0.10.1)\n",
      "Requirement already satisfied: mir-eval>=0.6 in /Users/tobiaslandgraf/.pyenv/versions/3.10.6/envs/lewagon/lib/python3.10/site-packages (from basic-pitch) (0.7)\n",
      "Requirement already satisfied: numpy<1.24,>=1.18 in /Users/tobiaslandgraf/.pyenv/versions/3.10.6/envs/lewagon/lib/python3.10/site-packages (from basic-pitch) (1.23.4)\n",
      "Requirement already satisfied: pretty-midi>=0.2.9 in /Users/tobiaslandgraf/.pyenv/versions/3.10.6/envs/lewagon/lib/python3.10/site-packages (from basic-pitch) (0.2.10)\n",
      "Requirement already satisfied: resampy>=0.2.2 in /Users/tobiaslandgraf/.pyenv/versions/3.10.6/envs/lewagon/lib/python3.10/site-packages (from basic-pitch) (0.4.2)\n",
      "Requirement already satisfied: scipy>=1.4.1 in /Users/tobiaslandgraf/.pyenv/versions/3.10.6/envs/lewagon/lib/python3.10/site-packages (from basic-pitch) (1.9.3)\n",
      "Requirement already satisfied: typing-extensions in /Users/tobiaslandgraf/.pyenv/versions/3.10.6/envs/lewagon/lib/python3.10/site-packages (from basic-pitch) (4.4.0)\n",
      "Requirement already satisfied: tensorflow-macos>=2.4.1 in /Users/tobiaslandgraf/.pyenv/versions/3.10.6/envs/lewagon/lib/python3.10/site-packages (from basic-pitch) (2.10.0)\n",
      "Requirement already satisfied: audioread>=2.1.9 in /Users/tobiaslandgraf/.pyenv/versions/3.10.6/envs/lewagon/lib/python3.10/site-packages (from librosa>=0.8.0->basic-pitch) (3.0.1)\n",
      "Requirement already satisfied: scikit-learn>=0.20.0 in /Users/tobiaslandgraf/.pyenv/versions/3.10.6/envs/lewagon/lib/python3.10/site-packages (from librosa>=0.8.0->basic-pitch) (1.3.2)\n",
      "Requirement already satisfied: joblib>=0.14 in /Users/tobiaslandgraf/.pyenv/versions/3.10.6/envs/lewagon/lib/python3.10/site-packages (from librosa>=0.8.0->basic-pitch) (1.1.1)\n",
      "Requirement already satisfied: decorator>=4.3.0 in /Users/tobiaslandgraf/.pyenv/versions/3.10.6/envs/lewagon/lib/python3.10/site-packages (from librosa>=0.8.0->basic-pitch) (5.1.1)\n",
      "Requirement already satisfied: numba>=0.51.0 in /Users/tobiaslandgraf/.pyenv/versions/3.10.6/envs/lewagon/lib/python3.10/site-packages (from librosa>=0.8.0->basic-pitch) (0.58.1)\n",
      "Requirement already satisfied: soundfile>=0.12.1 in /Users/tobiaslandgraf/.pyenv/versions/3.10.6/envs/lewagon/lib/python3.10/site-packages (from librosa>=0.8.0->basic-pitch) (0.12.1)\n",
      "Requirement already satisfied: pooch>=1.0 in /Users/tobiaslandgraf/.pyenv/versions/3.10.6/envs/lewagon/lib/python3.10/site-packages (from librosa>=0.8.0->basic-pitch) (1.8.0)\n",
      "Requirement already satisfied: soxr>=0.3.2 in /Users/tobiaslandgraf/.pyenv/versions/3.10.6/envs/lewagon/lib/python3.10/site-packages (from librosa>=0.8.0->basic-pitch) (0.3.7)\n",
      "Requirement already satisfied: lazy-loader>=0.1 in /Users/tobiaslandgraf/.pyenv/versions/3.10.6/envs/lewagon/lib/python3.10/site-packages (from librosa>=0.8.0->basic-pitch) (0.3)\n",
      "Requirement already satisfied: msgpack>=1.0 in /Users/tobiaslandgraf/.pyenv/versions/3.10.6/envs/lewagon/lib/python3.10/site-packages (from librosa>=0.8.0->basic-pitch) (1.0.7)\n",
      "Requirement already satisfied: future in /Users/tobiaslandgraf/.pyenv/versions/3.10.6/envs/lewagon/lib/python3.10/site-packages (from mir-eval>=0.6->basic-pitch) (0.18.3)\n",
      "Requirement already satisfied: six in /Users/tobiaslandgraf/.pyenv/versions/3.10.6/envs/lewagon/lib/python3.10/site-packages (from mir-eval>=0.6->basic-pitch) (1.16.0)\n",
      "Requirement already satisfied: mido>=1.1.16 in /Users/tobiaslandgraf/.pyenv/versions/3.10.6/envs/lewagon/lib/python3.10/site-packages (from pretty-midi>=0.2.9->basic-pitch) (1.3.0)\n",
      "Requirement already satisfied: absl-py>=1.0.0 in /Users/tobiaslandgraf/.pyenv/versions/3.10.6/envs/lewagon/lib/python3.10/site-packages (from tensorflow-macos>=2.4.1->basic-pitch) (1.3.0)\n",
      "Requirement already satisfied: astunparse>=1.6.0 in /Users/tobiaslandgraf/.pyenv/versions/3.10.6/envs/lewagon/lib/python3.10/site-packages (from tensorflow-macos>=2.4.1->basic-pitch) (1.6.3)\n",
      "Requirement already satisfied: flatbuffers>=2.0 in /Users/tobiaslandgraf/.pyenv/versions/3.10.6/envs/lewagon/lib/python3.10/site-packages (from tensorflow-macos>=2.4.1->basic-pitch) (22.9.24)\n",
      "Requirement already satisfied: gast<=0.4.0,>=0.2.1 in /Users/tobiaslandgraf/.pyenv/versions/3.10.6/envs/lewagon/lib/python3.10/site-packages (from tensorflow-macos>=2.4.1->basic-pitch) (0.4.0)\n",
      "Requirement already satisfied: google-pasta>=0.1.1 in /Users/tobiaslandgraf/.pyenv/versions/3.10.6/envs/lewagon/lib/python3.10/site-packages (from tensorflow-macos>=2.4.1->basic-pitch) (0.2.0)\n",
      "Requirement already satisfied: h5py>=2.9.0 in /Users/tobiaslandgraf/.pyenv/versions/3.10.6/envs/lewagon/lib/python3.10/site-packages (from tensorflow-macos>=2.4.1->basic-pitch) (3.7.0)\n",
      "Requirement already satisfied: keras-preprocessing>=1.1.1 in /Users/tobiaslandgraf/.pyenv/versions/3.10.6/envs/lewagon/lib/python3.10/site-packages (from tensorflow-macos>=2.4.1->basic-pitch) (1.1.2)\n",
      "Requirement already satisfied: libclang>=13.0.0 in /Users/tobiaslandgraf/.pyenv/versions/3.10.6/envs/lewagon/lib/python3.10/site-packages (from tensorflow-macos>=2.4.1->basic-pitch) (14.0.6)\n",
      "Requirement already satisfied: opt-einsum>=2.3.2 in /Users/tobiaslandgraf/.pyenv/versions/3.10.6/envs/lewagon/lib/python3.10/site-packages (from tensorflow-macos>=2.4.1->basic-pitch) (3.3.0)\n",
      "Requirement already satisfied: packaging in /Users/tobiaslandgraf/.pyenv/versions/3.10.6/envs/lewagon/lib/python3.10/site-packages (from tensorflow-macos>=2.4.1->basic-pitch) (23.2)\n",
      "Requirement already satisfied: protobuf<3.20,>=3.9.2 in /Users/tobiaslandgraf/.pyenv/versions/3.10.6/envs/lewagon/lib/python3.10/site-packages (from tensorflow-macos>=2.4.1->basic-pitch) (3.19.6)\n",
      "Requirement already satisfied: setuptools in /Users/tobiaslandgraf/.pyenv/versions/3.10.6/envs/lewagon/lib/python3.10/site-packages (from tensorflow-macos>=2.4.1->basic-pitch) (63.2.0)\n",
      "Requirement already satisfied: termcolor>=1.1.0 in /Users/tobiaslandgraf/.pyenv/versions/3.10.6/envs/lewagon/lib/python3.10/site-packages (from tensorflow-macos>=2.4.1->basic-pitch) (2.0.1)\n",
      "Requirement already satisfied: wrapt>=1.11.0 in /Users/tobiaslandgraf/.pyenv/versions/3.10.6/envs/lewagon/lib/python3.10/site-packages (from tensorflow-macos>=2.4.1->basic-pitch) (1.14.1)\n",
      "Requirement already satisfied: grpcio<2.0,>=1.24.3 in /Users/tobiaslandgraf/.pyenv/versions/3.10.6/envs/lewagon/lib/python3.10/site-packages (from tensorflow-macos>=2.4.1->basic-pitch) (1.50.0)\n",
      "Requirement already satisfied: tensorboard<2.11,>=2.10 in /Users/tobiaslandgraf/.pyenv/versions/3.10.6/envs/lewagon/lib/python3.10/site-packages (from tensorflow-macos>=2.4.1->basic-pitch) (2.10.1)\n",
      "Requirement already satisfied: tensorflow-estimator<2.11,>=2.10.0 in /Users/tobiaslandgraf/.pyenv/versions/3.10.6/envs/lewagon/lib/python3.10/site-packages (from tensorflow-macos>=2.4.1->basic-pitch) (2.10.0)\n",
      "Requirement already satisfied: keras<2.11,>=2.10.0 in /Users/tobiaslandgraf/.pyenv/versions/3.10.6/envs/lewagon/lib/python3.10/site-packages (from tensorflow-macos>=2.4.1->basic-pitch) (2.10.0)\n",
      "Requirement already satisfied: wheel<1.0,>=0.23.0 in /Users/tobiaslandgraf/.pyenv/versions/3.10.6/envs/lewagon/lib/python3.10/site-packages (from astunparse>=1.6.0->tensorflow-macos>=2.4.1->basic-pitch) (0.41.2)\n",
      "Requirement already satisfied: llvmlite<0.42,>=0.41.0dev0 in /Users/tobiaslandgraf/.pyenv/versions/3.10.6/envs/lewagon/lib/python3.10/site-packages (from numba>=0.51.0->librosa>=0.8.0->basic-pitch) (0.41.1)\n",
      "Requirement already satisfied: platformdirs>=2.5.0 in /Users/tobiaslandgraf/.pyenv/versions/3.10.6/envs/lewagon/lib/python3.10/site-packages (from pooch>=1.0->librosa>=0.8.0->basic-pitch) (2.5.2)\n",
      "Requirement already satisfied: requests>=2.19.0 in /Users/tobiaslandgraf/.pyenv/versions/3.10.6/envs/lewagon/lib/python3.10/site-packages (from pooch>=1.0->librosa>=0.8.0->basic-pitch) (2.28.1)\n",
      "Requirement already satisfied: threadpoolctl>=2.0.0 in /Users/tobiaslandgraf/.pyenv/versions/3.10.6/envs/lewagon/lib/python3.10/site-packages (from scikit-learn>=0.20.0->librosa>=0.8.0->basic-pitch) (3.1.0)\n",
      "Requirement already satisfied: cffi>=1.0 in /Users/tobiaslandgraf/.pyenv/versions/3.10.6/envs/lewagon/lib/python3.10/site-packages (from soundfile>=0.12.1->librosa>=0.8.0->basic-pitch) (1.15.1)\n"
     ]
    },
    {
     "name": "stdout",
     "output_type": "stream",
     "text": [
      "Requirement already satisfied: google-auth<3,>=1.6.3 in /Users/tobiaslandgraf/.pyenv/versions/3.10.6/envs/lewagon/lib/python3.10/site-packages (from tensorboard<2.11,>=2.10->tensorflow-macos>=2.4.1->basic-pitch) (2.13.0)\n",
      "Requirement already satisfied: google-auth-oauthlib<0.5,>=0.4.1 in /Users/tobiaslandgraf/.pyenv/versions/3.10.6/envs/lewagon/lib/python3.10/site-packages (from tensorboard<2.11,>=2.10->tensorflow-macos>=2.4.1->basic-pitch) (0.4.6)\n",
      "Requirement already satisfied: markdown>=2.6.8 in /Users/tobiaslandgraf/.pyenv/versions/3.10.6/envs/lewagon/lib/python3.10/site-packages (from tensorboard<2.11,>=2.10->tensorflow-macos>=2.4.1->basic-pitch) (3.4.1)\n",
      "Requirement already satisfied: tensorboard-data-server<0.7.0,>=0.6.0 in /Users/tobiaslandgraf/.pyenv/versions/3.10.6/envs/lewagon/lib/python3.10/site-packages (from tensorboard<2.11,>=2.10->tensorflow-macos>=2.4.1->basic-pitch) (0.6.1)\n",
      "Requirement already satisfied: tensorboard-plugin-wit>=1.6.0 in /Users/tobiaslandgraf/.pyenv/versions/3.10.6/envs/lewagon/lib/python3.10/site-packages (from tensorboard<2.11,>=2.10->tensorflow-macos>=2.4.1->basic-pitch) (1.8.1)\n",
      "Requirement already satisfied: werkzeug>=1.0.1 in /Users/tobiaslandgraf/.pyenv/versions/3.10.6/envs/lewagon/lib/python3.10/site-packages (from tensorboard<2.11,>=2.10->tensorflow-macos>=2.4.1->basic-pitch) (3.0.0)\n",
      "Requirement already satisfied: pycparser in /Users/tobiaslandgraf/.pyenv/versions/3.10.6/envs/lewagon/lib/python3.10/site-packages (from cffi>=1.0->soundfile>=0.12.1->librosa>=0.8.0->basic-pitch) (2.21)\n",
      "Requirement already satisfied: cachetools<6.0,>=2.0.0 in /Users/tobiaslandgraf/.pyenv/versions/3.10.6/envs/lewagon/lib/python3.10/site-packages (from google-auth<3,>=1.6.3->tensorboard<2.11,>=2.10->tensorflow-macos>=2.4.1->basic-pitch) (5.2.0)\n",
      "Requirement already satisfied: pyasn1-modules>=0.2.1 in /Users/tobiaslandgraf/.pyenv/versions/3.10.6/envs/lewagon/lib/python3.10/site-packages (from google-auth<3,>=1.6.3->tensorboard<2.11,>=2.10->tensorflow-macos>=2.4.1->basic-pitch) (0.2.8)\n",
      "Requirement already satisfied: rsa<5,>=3.1.4 in /Users/tobiaslandgraf/.pyenv/versions/3.10.6/envs/lewagon/lib/python3.10/site-packages (from google-auth<3,>=1.6.3->tensorboard<2.11,>=2.10->tensorflow-macos>=2.4.1->basic-pitch) (4.9)\n",
      "Requirement already satisfied: requests-oauthlib>=0.7.0 in /Users/tobiaslandgraf/.pyenv/versions/3.10.6/envs/lewagon/lib/python3.10/site-packages (from google-auth-oauthlib<0.5,>=0.4.1->tensorboard<2.11,>=2.10->tensorflow-macos>=2.4.1->basic-pitch) (1.3.1)\n",
      "Requirement already satisfied: charset-normalizer<3,>=2 in /Users/tobiaslandgraf/.pyenv/versions/3.10.6/envs/lewagon/lib/python3.10/site-packages (from requests>=2.19.0->pooch>=1.0->librosa>=0.8.0->basic-pitch) (2.1.1)\n",
      "Requirement already satisfied: idna<4,>=2.5 in /Users/tobiaslandgraf/.pyenv/versions/3.10.6/envs/lewagon/lib/python3.10/site-packages (from requests>=2.19.0->pooch>=1.0->librosa>=0.8.0->basic-pitch) (3.4)\n",
      "Requirement already satisfied: urllib3<1.27,>=1.21.1 in /Users/tobiaslandgraf/.pyenv/versions/3.10.6/envs/lewagon/lib/python3.10/site-packages (from requests>=2.19.0->pooch>=1.0->librosa>=0.8.0->basic-pitch) (1.26.12)\n",
      "Requirement already satisfied: certifi>=2017.4.17 in /Users/tobiaslandgraf/.pyenv/versions/3.10.6/envs/lewagon/lib/python3.10/site-packages (from requests>=2.19.0->pooch>=1.0->librosa>=0.8.0->basic-pitch) (2022.9.24)\n",
      "Requirement already satisfied: MarkupSafe>=2.1.1 in /Users/tobiaslandgraf/.pyenv/versions/3.10.6/envs/lewagon/lib/python3.10/site-packages (from werkzeug>=1.0.1->tensorboard<2.11,>=2.10->tensorflow-macos>=2.4.1->basic-pitch) (2.1.1)\n",
      "Requirement already satisfied: pyasn1<0.5.0,>=0.4.6 in /Users/tobiaslandgraf/.pyenv/versions/3.10.6/envs/lewagon/lib/python3.10/site-packages (from pyasn1-modules>=0.2.1->google-auth<3,>=1.6.3->tensorboard<2.11,>=2.10->tensorflow-macos>=2.4.1->basic-pitch) (0.4.8)\n",
      "Requirement already satisfied: oauthlib>=3.0.0 in /Users/tobiaslandgraf/.pyenv/versions/3.10.6/envs/lewagon/lib/python3.10/site-packages (from requests-oauthlib>=0.7.0->google-auth-oauthlib<0.5,>=0.4.1->tensorboard<2.11,>=2.10->tensorflow-macos>=2.4.1->basic-pitch) (3.2.2)\n"
     ]
    }
   ],
   "source": [
    "!pip install basic-pitch"
   ]
  },
  {
   "cell_type": "markdown",
   "id": "deaec4e3",
   "metadata": {},
   "source": [
    "## Try out the Basic Pitch lib"
   ]
  },
  {
   "cell_type": "markdown",
   "id": "4d62be06",
   "metadata": {},
   "source": [
    " RUN basic-pitch output-directory input-audio-path"
   ]
  },
  {
   "cell_type": "markdown",
   "id": "046d3189",
   "metadata": {},
   "source": [
    "Additional Information: directories CANNOT have spaces in the name. "
   ]
  },
  {
   "cell_type": "code",
   "execution_count": 7,
   "id": "cdb19b6d",
   "metadata": {
    "scrolled": true
   },
   "outputs": [
    {
     "name": "stdout",
     "output_type": "stream",
     "text": [
      "\n",
      "✨✨✨✨✨✨✨✨✨\n",
      "✨ Basic Pitch  ✨\n",
      "✨✨✨✨✨✨✨✨✨\n",
      "\n",
      "Importing Tensorflow (this may take a few seconds)...\n",
      "\n",
      "Predicting MIDI for /Users/tobiaslandgraf/code/HugoA45/music_project/music_project/MP3_Files_Input/Herbie_Hancock-Rockit.mp3...\n",
      "\n",
      "\n",
      "  Creating midi...\n",
      "  💅 Saved to /Users/tobiaslandgraf/code/HugoA45/music_project/music_project/Output_Dir/Herbie_Hancock-Rockit_basic_pitch.mid\n",
      "\n",
      "✨ Done ✨\n",
      "\n",
      "\u001b[0m"
     ]
    }
   ],
   "source": [
    "!basic-pitch /Users/tobiaslandgraf/code/HugoA45/music_project/music_project/Output_Dir /Users/tobiaslandgraf/code/HugoA45/music_project/music_project/MP3_Files_Input/Herbie_Hancock-Rockit.mp3"
   ]
  },
  {
   "cell_type": "markdown",
   "id": "5a8abde2",
   "metadata": {},
   "source": [
    "How can i extract additional information and also create a loop through multiple files"
   ]
  },
  {
   "cell_type": "code",
   "execution_count": null,
   "id": "3bad03f5",
   "metadata": {},
   "outputs": [],
   "source": []
  }
 ],
 "metadata": {
  "kernelspec": {
   "display_name": "Python 3 (ipykernel)",
   "language": "python",
   "name": "python3"
  },
  "language_info": {
   "codemirror_mode": {
    "name": "ipython",
    "version": 3
   },
   "file_extension": ".py",
   "mimetype": "text/x-python",
   "name": "python",
   "nbconvert_exporter": "python",
   "pygments_lexer": "ipython3",
   "version": "3.10.6"
  },
  "toc": {
   "base_numbering": 1,
   "nav_menu": {},
   "number_sections": true,
   "sideBar": true,
   "skip_h1_title": false,
   "title_cell": "Table of Contents",
   "title_sidebar": "Contents",
   "toc_cell": false,
   "toc_position": {},
   "toc_section_display": true,
   "toc_window_display": false
  }
 },
 "nbformat": 4,
 "nbformat_minor": 5
}
