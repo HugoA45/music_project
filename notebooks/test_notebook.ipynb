{
 "cells": [
  {
   "cell_type": "code",
   "execution_count": 9,
   "metadata": {},
   "outputs": [],
   "source": [
    "import os\n",
    "import subprocess\n",
    "import basic_pitch\n"
   ]
  },
  {
   "cell_type": "markdown",
   "metadata": {},
   "source": [
    "### MP3 to PREDICTION"
   ]
  },
  {
   "cell_type": "code",
   "execution_count": 10,
   "metadata": {},
   "outputs": [],
   "source": [
    "def convert_mp3_to_midi(mp3_file, output_dir):\n",
    "    \"\"\"\n",
    "    Converts an MP3 file to MIDI and saves it to the specified output directory.\n",
    "\n",
    "    Args:\n",
    "    mp3_file (str): Path to the MP3 file.\n",
    "    output_dir (str): Path to the directory where the MIDI file will be saved.\n",
    "\n",
    "    Returns:\n",
    "    str: Path to the converted MIDI file.\n",
    "    \"\"\"\n",
    "    # Make sure the output directory exists\n",
    "    if not os.path.exists(output_dir):\n",
    "        os.makedirs(output_dir)\n",
    "\n",
    "    # Construct the conversion command\n",
    "    command = f'basic-pitch \"{output_dir}\" \"{mp3_file}\"'\n",
    "    subprocess.run(command, shell=True)\n",
    "\n",
    "    # Create the path for the output MIDI file\n",
    "    midi_name = os.path.splitext(os.path.basename(mp3_file))[0] + '.midi'\n",
    "    output_file = os.path.join(output_dir, midi_name)\n",
    "\n",
    "    #print(f\"Converted {mp3_file} to MIDI in {output_dir}\")\n",
    "\n",
    "    return output_file\n"
   ]
  },
  {
   "cell_type": "code",
   "execution_count": 11,
   "metadata": {},
   "outputs": [],
   "source": [
    "mp3_path = \"../ZZ_archive/MP3_Files_Input/Herbie_Hancock-Rockit.mp3\"\n"
   ]
  },
  {
   "cell_type": "code",
   "execution_count": null,
   "metadata": {},
   "outputs": [],
   "source": []
  }
 ],
 "metadata": {
  "kernelspec": {
   "display_name": "proj_env",
   "language": "python",
   "name": "python3"
  },
  "language_info": {
   "codemirror_mode": {
    "name": "ipython",
    "version": 3
   },
   "file_extension": ".py",
   "mimetype": "text/x-python",
   "name": "python",
   "nbconvert_exporter": "python",
   "pygments_lexer": "ipython3",
   "version": "3.10.6"
  }
 },
 "nbformat": 4,
 "nbformat_minor": 2
}
